{
 "cells": [
  {
   "cell_type": "code",
   "execution_count": 2,
   "metadata": {},
   "outputs": [],
   "source": [
    "import numpy as np\n",
    "import torch\n",
    "import torch.optim as optim\n",
    "import torch.nn.functional as F\n",
    "import torch.nn as nn"
   ]
  },
  {
   "cell_type": "code",
   "execution_count": 3,
   "metadata": {},
   "outputs": [],
   "source": [
    "def hidden_init(layer):\n",
    "    fan_in = layer.weight.data.size()[0]\n",
    "    lim = 1. / np.sqrt(fan_in)\n",
    "    return (-lim, lim)"
   ]
  },
  {
   "cell_type": "code",
   "execution_count": 4,
   "metadata": {},
   "outputs": [],
   "source": [
    "class Actor(nn.Module):\n",
    "    def __init__(self,state_size,action_size,seed,hidden_unit_1=500,hidden_unit_2=300) -> None:\n",
    "        super(Actor,self).__init__()\n",
    "        # Code generated from https://github.com/Remtasya/DDPG-Actor-Critic-Reinforcement-Learning-Reacher-Environment/blob/master/model.py\n",
    "        self.seed = torch.manual_seed(seed)\n",
    "        self.hidden_unit_1 = nn.Linear(state_size,hidden_unit_1)\n",
    "        self.hidden_unit_2 = nn.Linear(hidden_unit_1,hidden_unit_2)\n",
    "        self.final = nn.Linear(hidden_unit_2,action_size)\n",
    "        self.reset_parameters()\n",
    "\n",
    "    def reset_parameters(self):\n",
    "        self.hidden_unit_1.weight.data.uniform_(*hidden_init(self.hidden_unit_1))\n",
    "        self.hidden_unit_2.weight.data.uniform_(*hidden_init(self.hidden_unit_2))\n",
    "        self.final.weight.data.uniform_(-3e-3,3e-3)\n",
    "\n",
    "    def forward(self, state):\n",
    "        \"\"\"Build an actor (policy) network that maps states -> actions.\"\"\"\n",
    "        x = F.relu(self.hidden_unit_1(state))\n",
    "        x = F.relu(self.hidden_unit_2(x))\n",
    "        return torch.tanh(self.final(x))\n",
    "        "
   ]
  },
  {
   "cell_type": "code",
   "execution_count": 8,
   "metadata": {},
   "outputs": [],
   "source": [
    "class Critic(torch.nn.Module):\n",
    "    def __init__(self,state_size,action_size,seed,hidden_unit_1=500,hidden_unit_2=300):\n",
    "        super(Critic, self).__init__()\n",
    "        # Code generated from https://github.com/Remtasya/DDPG-Actor-Critic-Reinforcement-Learning-Reacher-Environment/blob/master/model.py\n",
    "        self.seed = torch.manual_seed(seed)\n",
    "        self.hidden_unit_1 = nn.Linear(state_size,hidden_unit_1)\n",
    "        self.hidden_unit_2 = nn.Linear(hidden_unit_1+action_size,hidden_unit_2)\n",
    "        self.final = nn.Linear(hidden_unit_2,1)\n",
    "        self.reset_parameters()\n",
    "\n",
    "    def reset_parameters(self):\n",
    "        self.hidden_unit_1.weight.data.uniform_(*hidden_init(self.hidden_unit_1))\n",
    "        self.hidden_unit_2.weight.data.uniform_(*hidden_init(self.hidden_unit_2))\n",
    "        self.final.weight.data.uniform_(-3e-3,3e-3)\n",
    "\n",
    "    def forward(self, state, action):\n",
    "        \"\"\"Build a critic (value) network that maps (state, action) pairs -> Q-values.\"\"\"\n",
    "        xs = F.relu(self.hidden_unit_1(state))\n",
    "        x = torch.cat((xs, action), dim=1)\n",
    "        x = F.relu(self.hidden_unit_2(x))\n",
    "        return self.final(x)\n",
    "\n",
    "        \n",
    "\n",
    "\n"
   ]
  }
 ],
 "metadata": {
  "kernelspec": {
   "display_name": "Python 3",
   "language": "python",
   "name": "python3"
  },
  "language_info": {
   "codemirror_mode": {
    "name": "ipython",
    "version": 3
   },
   "file_extension": ".py",
   "mimetype": "text/x-python",
   "name": "python",
   "nbconvert_exporter": "python",
   "pygments_lexer": "ipython3",
   "version": "3.8.6"
  },
  "orig_nbformat": 4
 },
 "nbformat": 4,
 "nbformat_minor": 2
}
